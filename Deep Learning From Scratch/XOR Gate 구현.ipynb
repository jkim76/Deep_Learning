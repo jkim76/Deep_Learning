{
 "cells": [
  {
   "cell_type": "code",
   "execution_count": 59,
   "metadata": {},
   "outputs": [],
   "source": [
    "import numpy as np\n",
    "\n",
    "def XOR(x1, x2):\n",
    "    def AND(x1, x2):\n",
    "        x = np.array([x1, x2])\n",
    "        w = np.array([0.5,0.5])\n",
    "        b = -0.7\n",
    "        tmp = np.sum(w*x) +b\n",
    "        if tmp <= 0:\n",
    "            return 0\n",
    "        else:\n",
    "            return 1\n",
    "        \n",
    "    def NAND(x1, x2):\n",
    "        x = np.array([x1, x2])\n",
    "        w = np.array([-0.5,-0.5])\n",
    "        b = 0.7\n",
    "        tmp = np.sum(w*x) +b\n",
    "        if tmp <= 0:\n",
    "            return 0\n",
    "        else:\n",
    "            return 1        \n",
    "        \n",
    "    def OR(x1, x2):\n",
    "        x = np.array([x1, x2])\n",
    "        w = np.array([0.5,0.5])\n",
    "        b = -0.2\n",
    "        tmp = np.sum(w*x) +b\n",
    "        if tmp <= 0:\n",
    "            return 0\n",
    "        else:\n",
    "            return 1\n",
    "        \n",
    "    s1 = NAND(x1, x2)\n",
    "    s2 = OR(x1, x2)\n",
    "    y = AND(s1, s2)\n",
    "    return y"
   ]
  },
  {
   "cell_type": "code",
   "execution_count": 58,
   "metadata": {},
   "outputs": [
    {
     "data": {
      "text/plain": [
       "0"
      ]
     },
     "execution_count": 58,
     "metadata": {},
     "output_type": "execute_result"
    }
   ],
   "source": [
    "XOR(1,1)"
   ]
  },
  {
   "cell_type": "code",
   "execution_count": null,
   "metadata": {},
   "outputs": [],
   "source": []
  }
 ],
 "metadata": {
  "kernelspec": {
   "display_name": "Python 3",
   "language": "python",
   "name": "python3"
  },
  "language_info": {
   "codemirror_mode": {
    "name": "ipython",
    "version": 3
   },
   "file_extension": ".py",
   "mimetype": "text/x-python",
   "name": "python",
   "nbconvert_exporter": "python",
   "pygments_lexer": "ipython3",
   "version": "3.7.0"
  }
 },
 "nbformat": 4,
 "nbformat_minor": 2
}
