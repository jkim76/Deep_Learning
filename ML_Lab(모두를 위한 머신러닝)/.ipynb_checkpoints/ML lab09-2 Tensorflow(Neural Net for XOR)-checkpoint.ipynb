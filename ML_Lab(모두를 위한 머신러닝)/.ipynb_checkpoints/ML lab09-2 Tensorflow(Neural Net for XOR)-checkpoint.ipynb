{
 "cells": [
  {
   "cell_type": "code",
   "execution_count": 28,
   "metadata": {},
   "outputs": [],
   "source": [
    "import numpy as np\n",
    "import tensorflow as tf"
   ]
  },
  {
   "cell_type": "code",
   "execution_count": 29,
   "metadata": {},
   "outputs": [
    {
     "ename": "SyntaxError",
     "evalue": "invalid syntax (<ipython-input-29-f77ffad0548a>, line 20)",
     "output_type": "error",
     "traceback": [
      "\u001b[0;36m  File \u001b[0;32m\"<ipython-input-29-f77ffad0548a>\"\u001b[0;36m, line \u001b[0;32m20\u001b[0m\n\u001b[0;31m    tensorboard --logdir=./logs\u001b[0m\n\u001b[0m                         ^\u001b[0m\n\u001b[0;31mSyntaxError\u001b[0m\u001b[0;31m:\u001b[0m invalid syntax\n"
     ]
    }
   ],
   "source": [
    "\n",
    "\n",
    "#from TF grapg. decide which tensor you wnat to log\n",
    "w2_hist = tf.summary.histogram(\"weight2\", W2)\n",
    "cost_summ = tf.summary.scalar(\"cost\", cost)\n",
    "\n",
    "#Merge all Summaries\n",
    "summary = tf.summary.merge_all()\n",
    "\n",
    "#create riter and add graph\n",
    "    #create summary\n",
    "writer = tf.summary.FileWriter('./logs')\n",
    "writer.add_graph(sess.graph)\n",
    "\n",
    "#Run summary merge and add_summary\n",
    "s, _ = sess.run([summary, optimizer], feed_dict=feed_dict)\n",
    "writer.add_summary(s, global_step=global_step)\n",
    "\n",
    "#Launch Tensorboard\n",
    "tensorboard --logdir=./logs\n",
    "cost_sum = tf.summary.scalar(\"cost\",cost)"
   ]
  },
  {
   "cell_type": "code",
   "execution_count": 30,
   "metadata": {},
   "outputs": [],
   "source": [
    "x_data = np.array([[0, 0], [0, 1], [1, 0], [1, 1]], dtype=np.float32)\n",
    "y_data = np.array([[0], [1], [1], [0]], dtype=np.float32)\n",
    "\n",
    "X = tf.placeholder(tf.float32, [None, 2])\n",
    "Y = tf.placeholder(tf.float32, [None, 1])\n",
    "\n",
    "W1 = tf.Variable(tf.random_normal([2,2], name ='weight1'))\n",
    "b1 = tf.Variable(tf.random_normal([2], name ='bias1'))\n",
    "layer1 = tf.sigmoid(tf.matmul(X, W1)+ b1)\n",
    "\n",
    "#Histogram (multi-dimensional tensor)\n",
    "W2 = tf.Variable(tf.random_normal([2,1], name ='weight2'))\n",
    "b2 = tf.Variable(tf.random_normal([1], name ='bias2'))\n",
    "hypothesis = tf.sigmoid(tf.matmul(layer1, W2)+b2)\n",
    "\n",
    "w2_hist = tf.summary.histogram(\"weights2\", W2)\n",
    "b2_hist = tf.summary.histogram(\"biases2\", b2)\n",
    "hypothesis_hist = tf.summary.histogram(\"hypothesis\", hypothesis)"
   ]
  },
  {
   "cell_type": "code",
   "execution_count": 31,
   "metadata": {},
   "outputs": [
    {
     "ename": "SyntaxError",
     "evalue": "invalid syntax (<ipython-input-31-0e5605afa164>, line 28)",
     "output_type": "error",
     "traceback": [
      "\u001b[0;36m  File \u001b[0;32m\"<ipython-input-31-0e5605afa164>\"\u001b[0;36m, line \u001b[0;32m28\u001b[0m\n\u001b[0;31m    writer = tf.summary.FileWriter(TB SUMMARY DIR)\u001b[0m\n\u001b[0m                                            ^\u001b[0m\n\u001b[0;31mSyntaxError\u001b[0m\u001b[0;31m:\u001b[0m invalid syntax\n"
     ]
    }
   ],
   "source": [
    "#Add scope for better graph hierarchy\n",
    "with tf.name_scope(\"layer1\") as score:\n",
    "    W1 = tf.Variable(tf.random_normal([2,2], name ='weight1'))\n",
    "    b1 = tf.Variable(tf.random_normal([2], name ='bias1'))\n",
    "    layer1 = tf.sigmoid(tf.matmul(X, W1)+ b1)\n",
    "\n",
    "    w1_hist = tf.summary.histogram(\"weights1\", W1)\n",
    "    b1_hist = tf.summary.histogram(\"biases1\", b1)\n",
    "    layer1_hist = tf.summary.histogram(\"layer1\", layer1)\n",
    "    \n",
    "with tf.name_scope(\"layer2\") as scope:\n",
    "    W2 = tf.Variable(tf.random_normal([2,1], name ='weight2'))\n",
    "    b2 = tf.Variable(tf.random_normal([2], name ='bias2'))\n",
    "    hypothesis = tf.sigmoid(tf.matmul(layer1, W2)+ b2)\n",
    "\n",
    "    w2_hist = tf.summary.histogram(\"weights2\", W2)\n",
    "    b2_hist = tf.summary.histogram(\"biases2\", b2)\n",
    "    hypothesis_hist = tf.summary.histogram(\"hypothesis\", hypothesis)\n",
    "    \n",
    "#summary\n",
    "summary = tf.summary.merge_All()\n",
    "\n",
    "#initializer\n",
    "sess = tf.Session()\n",
    "sess.run(tf.global_variables_initializer())\n",
    "\n",
    "#create summary writer\n",
    "writer = tf.summary.FileWriter(TB SUMMARY DIR)\n",
    "writer.add_graph(sess.graph)\n",
    "\n",
    "s, _ = sess.run([summary, optimizer] feed_dict=feed_dict)\n",
    "writer.add_summary(s, global_step=global_step)\n",
    "global_step += 1\n",
    "\n",
    "writer = tf.summary.FileWriter(\"./logs/xor_logs\")\n",
    "\n",
    "$ tensorboard -logdir=./log/xor_logs\n",
    "#ssh?"
   ]
  },
  {
   "cell_type": "code",
   "execution_count": 16,
   "metadata": {},
   "outputs": [
    {
     "ename": "SyntaxError",
     "evalue": "invalid syntax (<ipython-input-16-cb8494856929>, line 4)",
     "output_type": "error",
     "traceback": [
      "\u001b[0;36m  File \u001b[0;32m\"<ipython-input-16-cb8494856929>\"\u001b[0;36m, line \u001b[0;32m4\u001b[0m\n\u001b[0;31m    summary = tf.summary.merge all()\u001b[0m\n\u001b[0m                                 ^\u001b[0m\n\u001b[0;31mSyntaxError\u001b[0m\u001b[0;31m:\u001b[0m invalid syntax\n"
     ]
    }
   ],
   "source": [
    "w2_hist = tf.summary.histogram(\"Weight2\", W2)\n",
    "cost_summ = tf.summary.scaler(\"cost\", cost)\n",
    "\n",
    "summary = tf.summary.merge all()\n",
    "\n",
    "writer = tf.summary.FileWriter('./logs')\n",
    "writer.add_graph(sess.hraph)\n",
    "\n",
    "s, _ = sess.run([summary, optimizer] feed_dict=feed_dict)\n",
    "writer.add_summary(s, global_step=global_step)\n",
    "\n",
    "tensforboard ==logdir=./logs\n"
   ]
  },
  {
   "cell_type": "code",
   "execution_count": null,
   "metadata": {},
   "outputs": [],
   "source": [
    "w"
   ]
  }
 ],
 "metadata": {
  "kernelspec": {
   "display_name": "Python 3",
   "language": "python",
   "name": "python3"
  },
  "language_info": {
   "codemirror_mode": {
    "name": "ipython",
    "version": 3
   },
   "file_extension": ".py",
   "mimetype": "text/x-python",
   "name": "python",
   "nbconvert_exporter": "python",
   "pygments_lexer": "ipython3",
   "version": "3.7.3"
  }
 },
 "nbformat": 4,
 "nbformat_minor": 2
}
