{
 "cells": [
  {
   "cell_type": "code",
   "execution_count": 94,
   "metadata": {},
   "outputs": [],
   "source": [
    "import numpy as np\n",
    "import tensorflow as tf\n",
    "import matplotlib.pyplot as plt\n",
    "import random"
   ]
  },
  {
   "cell_type": "code",
   "execution_count": 95,
   "metadata": {},
   "outputs": [
    {
     "name": "stdout",
     "output_type": "stream",
     "text": [
      "Extracting MNIST_data/train-images-idx3-ubyte.gz\n",
      "Extracting MNIST_data/train-labels-idx1-ubyte.gz\n",
      "Extracting MNIST_data/t10k-images-idx3-ubyte.gz\n",
      "Extracting MNIST_data/t10k-labels-idx1-ubyte.gz\n"
     ]
    }
   ],
   "source": [
    "tf.set_random_seed(777)\n",
    "from tensorflow.examples.tutorials.mnist import input_data\n",
    "#check out https://www.tensorflow.org/get_started/mnist/beginners for\n",
    "#more information about the mniste dataset\n",
    "mnist = input_data.read_data_sets(\"MNIST_data/\", one_hot=True)\n",
    "\n",
    "nb_classes = 10\n"
   ]
  },
  {
   "cell_type": "code",
   "execution_count": 96,
   "metadata": {},
   "outputs": [],
   "source": [
    "#mnist data image of shape 28*28 = 784\n",
    "X = tf.placeholder(tf.float32, [None, 784])\n",
    "# 0- 9 digits recognition = 10 classes\n",
    "Y = tf.placeholder(tf.float32, [None, nb_classes])\n",
    "\n",
    "W= tf.Variable(tf.random_normal([784, nb_classes]))\n",
    "b= tf.Variable(tf.random_normal([nb_classes]))\n"
   ]
  },
  {
   "cell_type": "code",
   "execution_count": 97,
   "metadata": {},
   "outputs": [],
   "source": [
    "#softmax!\n",
    "\n",
    "#hypothesis (using softmax)\n",
    "hypothesis = tf.nn.softmax(tf.matmul(X,W)+b)\n",
    "\n",
    "cost = tf.reduce_mean(-tf.reduce_sum(Y * tf.log(hypothesis), axis = 1))\n",
    "train = tf.train.GradientDescentOptimizer(learning_rate=0.1).minimize(cost)"
   ]
  },
  {
   "cell_type": "code",
   "execution_count": 98,
   "metadata": {},
   "outputs": [],
   "source": [
    "#Test model\n",
    "is_correct = tf.equal(tf.argmax(hypothesis, 1), tf.argmax(Y, 1))\n",
    "accuracy = tf.reduce_mean(tf.cast(is_correct, tf.float32))\n",
    "\n",
    "#parametser\n",
    "training_epochs = 15\n",
    "batch_size = 100\n",
    "num_iterations = int(mnist.train.num_examples / batch_size)"
   ]
  },
  {
   "cell_type": "code",
   "execution_count": 102,
   "metadata": {},
   "outputs": [
    {
     "name": "stdout",
     "output_type": "stream",
     "text": [
      "Epoch: 0001, Cost: 2.951829966\n",
      "Accuracy:  0.7513\n",
      "Label:  [8]\n",
      "Prediction:  [6]\n",
      "Epoch: 0002, Cost: 1.139703007\n",
      "Accuracy:  0.8065\n",
      "Label:  [3]\n",
      "Prediction:  [3]\n",
      "Epoch: 0003, Cost: 0.901471358\n",
      "Accuracy:  0.8308\n",
      "Label:  [0]\n",
      "Prediction:  [0]\n",
      "Epoch: 0004, Cost: 0.787467671\n",
      "Accuracy:  0.8436\n",
      "Label:  [2]\n",
      "Prediction:  [2]\n",
      "Epoch: 0005, Cost: 0.715663351\n",
      "Accuracy:  0.8554\n",
      "Label:  [1]\n",
      "Prediction:  [1]\n",
      "Epoch: 0006, Cost: 0.665507289\n",
      "Accuracy:  0.8617\n",
      "Label:  [9]\n",
      "Prediction:  [9]\n",
      "Epoch: 0007, Cost: 0.627611739\n",
      "Accuracy:  0.8662\n",
      "Label:  [0]\n",
      "Prediction:  [0]\n",
      "Epoch: 0008, Cost: 0.597130168\n",
      "Accuracy:  0.8723\n",
      "Label:  [2]\n",
      "Prediction:  [2]\n",
      "Epoch: 0009, Cost: 0.571257592\n",
      "Accuracy:  0.8758\n",
      "Label:  [7]\n",
      "Prediction:  [7]\n",
      "Epoch: 0010, Cost: 0.549804606\n",
      "Accuracy:  0.8786\n",
      "Label:  [6]\n",
      "Prediction:  [6]\n",
      "Epoch: 0011, Cost: 0.531794721\n",
      "Accuracy:  0.8789\n",
      "Label:  [0]\n",
      "Prediction:  [0]\n",
      "Epoch: 0012, Cost: 0.515462785\n",
      "Accuracy:  0.8813\n",
      "Label:  [9]\n",
      "Prediction:  [9]\n",
      "Epoch: 0013, Cost: 0.501611287\n",
      "Accuracy:  0.8833\n",
      "Label:  [5]\n",
      "Prediction:  [5]\n",
      "Epoch: 0014, Cost: 0.488684038\n",
      "Accuracy:  0.8858\n",
      "Label:  [0]\n",
      "Prediction:  [5]\n",
      "Epoch: 0015, Cost: 0.477120710\n",
      "Accuracy:  0.8878\n",
      "Label:  [7]\n",
      "Prediction:  [7]\n"
     ]
    },
    {
     "data": {
      "image/png": "[encoded data removed]",
      "text/plain": [
       "<Figure size 432x288 with 1 Axes>"
      ]
     },
     "metadata": {
      "needs_background": "light"
     },
     "output_type": "display_data"
    }
   ],
   "source": [
    "with tf.Session() as sess:\n",
    "    #initializer Tensorflow Variables\n",
    "    sess.run(tf.global_variables_initializer())\n",
    "    \n",
    "    #training cycle\n",
    "    for epoch in range(num_epochs):\n",
    "        avg_cost = 0\n",
    "\n",
    "        for i in range(num_iterations):\n",
    "            batch_xs, batch_ys = mnist.train.next_batch(batch_size)\n",
    "            _, cost_val = sess.run([train, cost], feed_dict={X: batch_xs, Y: batch_ys})\n",
    "            avg_cost += cost_val / num_iterations\n",
    "\n",
    "        print(\"Epoch: {:04d}, Cost: {:.9f}\".format(epoch + 1, avg_cost))\n",
    "        print(\"Accuracy: \", accuracy.eval(session=sess,\n",
    "            feed_dict={X: mnist.test.images, Y: mnist.test.labels}))\n",
    "        r = random.randint(0, mnist.test.num_examples - 1)\n",
    "        print(\"Label: \", sess.run(tf.argmax(mnist.test.labels[r : r + 1], 1)))\n",
    "        print(\n",
    "            \"Prediction: \",\n",
    "            sess.run(tf.argmax(hypothesis, 1), feed_dict={X: mnist.test.images[r : r + 1]}),\n",
    "    )\n",
    "\n",
    "        plt.imshow(\n",
    "            mnist.test.images[r : r + 1].reshape(28, 28),\n",
    "            cmap=\"Greys\",\n",
    "            interpolation=\"nearest\",\n",
    "    )\n",
    "    plt.show()"
   ]
  },
  {
   "cell_type": "code",
   "execution_count": null,
   "metadata": {},
   "outputs": [],
   "source": []
  }
 ],
 "metadata": {
  "kernelspec": {
   "display_name": "Python 3",
   "language": "python",
   "name": "python3"
  },
  "language_info": {
   "codemirror_mode": {
    "name": "ipython",
    "version": 3
   },
   "file_extension": ".py",
   "mimetype": "text/x-python",
   "name": "python",
   "nbconvert_exporter": "python",
   "pygments_lexer": "ipython3",
   "version": "3.7.3"
  }
 },
 "nbformat": 4,
 "nbformat_minor": 2
}
